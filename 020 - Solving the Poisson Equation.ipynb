{
 "cells": [
  {
   "cell_type": "markdown",
   "id": "1cb07655-169a-44c3-a315-8aa1396b28a1",
   "metadata": {},
   "source": [
    "# Solving the Poisson Equation\n",
    "\n",
    "Author: Felix Hoffmann <br>\n",
    "Date: 04/15/2024 <br>\n",
    "Based on: [FeniCSx - Solving the Poisson Equation](https://jsdokken.com/dolfinx-tutorial/chapter1/fundamentals.html)\n",
    "\n",
    "This introductory tutorial will follow along ```Hans Petter Langtangen``` and ```Anders Logg``` Tutorial on \"[FEniCSx - Solving the Poisson Equation](https://jsdokken.com/dolfinx-tutorial/chapter1/fundamentals.html)\" adapted to FEniCSx by ```Jørgen S. Dokken```.\n",
    "\n",
    "This tutorial should not replace H.P. Lantangen's and A. Logg's tutorial. It should be more understood as a completion and application to Parameter Investigation, Parallel Computing, and Reduced Order Models. \n",
    "\n",
    "------------"
   ]
  },
  {
   "cell_type": "markdown",
   "id": "211d127e-03ba-4ff4-8571-830d4ce0ca2a",
   "metadata": {},
   "source": [
    "### The Problem\n",
    "We want to solve the Poisson Problem $$\n",
    "    \\left|\n",
    "    \\begin{matrix}\n",
    "        -\\nabla^2 u(\\vec{x}) = f(\\vec{x}, \\vec{\\alpha}) & \\vec{x} \\in\\Omega \\\\\n",
    "        u(\\vec{x}) = u_D(\\vec{x}, \\vec{\\beta}) & \\vec{x} \\in \\partial\\Omega\n",
    "    \\end{matrix}\n",
    "    \\right.\n",
    "$$\n",
    "with Parameters $\\vec{\\alpha}$ and $\\vec{\\beta}$, and the Spatial Domain $\\Omega \\subset \\mathbb{R}^2$.\n",
    "\n",
    "Determine the Weak Formulation by multiplying by a Test Funktion $v$, then integrate and use Green's Formula. The boundary terms are dropping out because we're using only (inhomogeneous) Dirichlet boundary conditions in this case. (Solving for $u^*$ in $u = u^* + u_D$ and therefore hom. Dirichlet.)\n",
    "\n",
    "Therefore we're getting the weak formulation: $$\n",
    "    a(u, v) = L(v) \\qquad \\forall v \\in \\hat{V}\n",
    "$$\n",
    "with $$ \n",
    "    \\begin{matrix}\n",
    "        a(u,v) = \\int_\\Omega \\nabla u \\cdot \\nabla v \\,\\mathrm{d}x\\,,\\\\\n",
    "        L(v)   = \\int_\\Omega fv\\,\\mathrm{d}x\\,, \n",
    "    \\end{matrix}\n",
    "$$\n",
    "and $\\hat{V}$ a suitable test space. \n",
    "\n",
    "The last step is to build a Discretization. Based on the Triangulation and the chosen basis functions $\\varphi_i(\\vec{x})$ we get an approximation $$\n",
    "    u(\\vec{x}) \\approx \\sum \\varphi_i(\\vec{x}) \\,u_h^i\\,.\n",
    "$$\n",
    "Define $\\vec{u}_h = (u_h^1,...,u_h^n)^\\top$ and solve the weak formulation for the approximation $\\vec{u}_h$.\n",
    "\n",
    "----------"
   ]
  },
  {
   "cell_type": "markdown",
   "id": "59754e8e-7d6a-4971-b77e-515eb8c5ceb5",
   "metadata": {},
   "source": [
    "### Implementation"
   ]
  },
  {
   "cell_type": "code",
   "execution_count": 1,
   "id": "b1b0828f-89c1-4c85-a47b-b87a4b1bd8a7",
   "metadata": {},
   "outputs": [],
   "source": [
    "# Third Party Imports\n",
    "import numpy as np\n",
    "import matplotlib.pyplot as plt\n",
    "\n",
    "from mpi4py import MPI\n",
    "import ufl \n",
    "import pyvista\n",
    "import vtk\n",
    "\n",
    "from dolfinx import mesh\n",
    "import dolfinx.fem as xfem\n",
    "import dolfinx.plot as xplot\n",
    "import dolfinx.fem.petsc as xpetsc\n",
    "\n",
    "import trame\n",
    "import ipywidgets\n",
    "\n",
    "\n",
    "# Own Imports\n",
    "import src.helper as helper"
   ]
  },
  {
   "cell_type": "markdown",
   "id": "8d1bc983-ca8a-472e-9360-8a5b424ed82d",
   "metadata": {},
   "source": [
    "Before starting with the actual Problem, we want to set define the source term (or right hand side) $f(\\vec{x})$ and the Dirichlet boundary conditions $u_D(\\vec{x})$.\n",
    "\n",
    "Feel free to modify these functions. For the beginning we want to stick to these because we know the exact solution in this case."
   ]
  },
  {
   "cell_type": "code",
   "execution_count": 2,
   "id": "1f86dc60-2db8-4004-ad40-9269c8bcec7d",
   "metadata": {},
   "outputs": [],
   "source": [
    "def sourceTerm(coords, mu) -> np.array:\n",
    "    # Evaluate the source term at the spacial coordinates coords\n",
    "    #   under consideration of the parameter mu.\n",
    "    #\n",
    "    # Args:\n",
    "    #   coords (float 2xn)   Spatial 2D coordinates\n",
    "    #   mu (float m)         Given Parameters\n",
    "    #\n",
    "    # Out:\n",
    "    #   f (float n)           Evaluate f at the points x\n",
    "    ############################################################\n",
    "\n",
    "    xx = coords[0]\n",
    "    yy = coords[1]\n",
    "\n",
    "    # Feel free to modify this function\n",
    "    f = mu[0] + mu[1] * np.power(xx, 2) + mu[2] * np.power(yy, 2)\n",
    "    \n",
    "    return f\n",
    "\n",
    "\n",
    "def dirichletBoundary(coords, mu) -> np.array:\n",
    "    # Evaluate the Dirichlet Boundary Fct at the spatial coordinates \n",
    "    #   coords under consideration of the parameter mu.\n",
    "    #\n",
    "    # Args:\n",
    "    #   coords (float 2xn)   Spatial 2D coordinates\n",
    "    #   mu (float m)         Given Parameters\n",
    "    #\n",
    "    # Out:\n",
    "    #   uD (float n)           Evaluate u_D at the points x\n",
    "    ############################################################\n",
    "\n",
    "    xx = coords[0]\n",
    "    yy = coords[1]\n",
    "\n",
    "    # Feel free to modify this function\n",
    "    uD = mu[0] + mu[1] * xx + mu[2] * xx * yy\n",
    "    \n",
    "    return uD"
   ]
  },
  {
   "cell_type": "markdown",
   "id": "bb377f68-aa17-46d8-9cdb-bb0d9c2002ad",
   "metadata": {},
   "source": [
    "Let's visualize the source function and the boundary condition. Remark, that the boundary condition is strictly speaking only defined on the boundary, but here it was continued to the hole unit square $[0,1]^2$."
   ]
  },
  {
   "cell_type": "code",
   "execution_count": 3,
   "id": "650ae242-e531-47d0-a470-62becfa5fffc",
   "metadata": {},
   "outputs": [
    {
     "data": {
      "image/png": "[encoded data removed]",
      "text/plain": [
       "<Figure size 900x600 with 2 Axes>"
      ]
     },
     "metadata": {},
     "output_type": "display_data"
    }
   ],
   "source": [
    "import src.helper as helper\n",
    "\n",
    "alpha = [1,-2,1]\n",
    "beta  = [1,0,1]\n",
    "\n",
    "helper.plotFunctions(sourceTerm, dirichletBoundary, alpha, beta)"
   ]
  },
  {
   "cell_type": "markdown",
   "id": "53444cc2-5f22-49b6-8915-714fe5d241ac",
   "metadata": {},
   "source": [
    "---"
   ]
  },
  {
   "cell_type": "markdown",
   "id": "a198b9df-ab9a-4ce1-bdb4-bdadf85a69e4",
   "metadata": {},
   "source": [
    "Let's start with the actual problem. First we want to set some global parameters. Like the parameters for the Source Term and Dirichlet Boundary, but also the fineness of the grid. "
   ]
  },
  {
   "cell_type": "code",
   "execution_count": 4,
   "id": "4798ab15-4542-496d-9641-68548bd51ad4",
   "metadata": {},
   "outputs": [],
   "source": [
    "alpha = [1,-2,1]\n",
    "beta  = [1,0,1]\n",
    "\n",
    "gridFineness = 8"
   ]
  },
  {
   "cell_type": "markdown",
   "id": "d87700c6-8657-4c96-a298-90c417f7f7e6",
   "metadata": {},
   "source": [
    "---"
   ]
  },
  {
   "cell_type": "markdown",
   "id": "44f7ea8c-c123-4ad5-8399-824f0781dacc",
   "metadata": {},
   "source": [
    "Next we define the domain - the unit square $[0, 1]^2$.\n",
    "\n",
    "NB: ```MPI.COMM_WORLD``` specifies how we would like the program to behave in parallel. later more about that. "
   ]
  },
  {
   "cell_type": "code",
   "execution_count": 5,
   "id": "b40ae009-9d06-4597-a141-e40c7b4b2575",
   "metadata": {},
   "outputs": [],
   "source": [
    "domain = mesh.create_unit_square(MPI.COMM_WORLD, gridFineness, gridFineness, mesh.CellType.quadrilateral)"
   ]
  },
  {
   "cell_type": "markdown",
   "id": "1aede149-d937-4ec6-a755-41675a30c446",
   "metadata": {},
   "source": [
    "---\n",
    "<font color='Red'> <b>ToDo:</b> </font> <br>\n",
    "Make the model more complicated to run for a resonable amount of time. Experiment with the ```MPI.COMM_WORLD``` command and investigate the influence of running it in parralel via ```mpirun -n NN python file.py``` with $NN$ the number of cores. Also look into FEniCSx if it supports GPU.\n",
    "\n",
    "\n",
    "---"
   ]
  },
  {
   "cell_type": "markdown",
   "id": "4c42179b-4680-4f78-afe0-ceb657bfb091",
   "metadata": {},
   "source": [
    "For reference we can plot this triangulation.\n",
    "\n",
    "Note: Install trame, trame-vtk, trame-vuetify, trame-plotly and ipywidgets!"
   ]
  },
  {
   "cell_type": "code",
   "execution_count": 6,
   "id": "91a185d4-c22d-478c-ac34-6b65ee18dc38",
   "metadata": {},
   "outputs": [
    {
     "data": {
      "application/vnd.jupyter.widget-view+json": {
       "model_id": "65c8984734164565b70839e8e00e40a8",
       "version_major": 2,
       "version_minor": 0
      },
      "text/plain": [
       "EmbeddableWidget(value='<iframe srcdoc=\"<!DOCTYPE html>\\n<html>\\n  <head>\\n    <meta http-equiv=&quot;Content-…"
      ]
     },
     "metadata": {},
     "output_type": "display_data"
    }
   ],
   "source": [
    "helper.plotTriangulation(domain)"
   ]
  },
  {
   "cell_type": "markdown",
   "id": "d44c2573-c733-4a03-8257-09870e643721",
   "metadata": {},
   "source": [
    "---"
   ]
  },
  {
   "cell_type": "markdown",
   "id": "27cb60c2-b8ed-4135-9450-e29823157b9d",
   "metadata": {},
   "source": [
    "Let's define the Finite Element Function Space $\\hat{V}$ on our domain. We are using a continuous Galerkin function space. This one is equivalent to standard Lagrange family with order one. So we can use as Paramters ```\"CG\"``` or alternatively ```(\"Lagrange\", 1)```. For more informations on different function spaces see [FEniCSx Function Spaces](https://fenicsproject.org/olddocs/dolfin/1.3.0/python/programmers-reference/functions/functionspace/FunctionSpace.html).\n",
    "\n",
    "We will also define a Trial and a Test Function on that space."
   ]
  },
  {
   "cell_type": "code",
   "execution_count": 7,
   "id": "9f271727-4fe6-4899-97e8-44e7fa6574f8",
   "metadata": {},
   "outputs": [],
   "source": [
    "# Function Space\n",
    "V = xfem.FunctionSpace(domain, (\"Lagrange\", 1))\n",
    "\n",
    "u = ufl.TrialFunction(V)   # Trial Function\n",
    "v = ufl.TestFunction(V)    # Test Function"
   ]
  },
  {
   "cell_type": "markdown",
   "id": "22542805-5c89-40ef-9369-1672fab96a13",
   "metadata": {},
   "source": [
    "Interpolate the Source Term and Boundary Function as a Function in $\\hat{V}$.\n",
    "(E.g.: Projection on basis functions)"
   ]
  },
  {
   "cell_type": "code",
   "execution_count": 8,
   "id": "70325cd3-f358-4527-a1d2-a84e8d6a986d",
   "metadata": {},
   "outputs": [],
   "source": [
    "f = xfem.Function(V)\n",
    "f.interpolate(lambda x: sourceTerm(x, alpha))\n",
    "\n",
    "uD = xfem.Function(V)\n",
    "uD.interpolate(lambda x: dirichletBoundary(x, beta))"
   ]
  },
  {
   "cell_type": "markdown",
   "id": "ecf78d5f-7187-46e6-9f4d-15a240d97d3d",
   "metadata": {},
   "source": [
    "---"
   ]
  },
  {
   "cell_type": "markdown",
   "id": "7900d705-f9b3-452d-8328-031275b68f90",
   "metadata": {},
   "source": [
    "Now we are defining the boundary conditions. \n",
    "First we start with some pre processing to calculate the facets representing the outer boundary. With that data we can create the (Dirichlet) boundary conditions."
   ]
  },
  {
   "cell_type": "code",
   "execution_count": 9,
   "id": "4b044817-3b4f-45b8-ba0b-32761ded85b0",
   "metadata": {},
   "outputs": [],
   "source": [
    "### Pre Processing ###\n",
    "tdim = domain.topology.dim    # Dimension of Simplex (Triangle/Tetrahedron)\n",
    "fdim = tdim - 1               # Dimension of Facets (Sides of Simplex)\n",
    "\n",
    "# Create connectivity between given pair of dimensions, d0 -> d1\n",
    "#   ! No clue what that means, but it's necesary! :/\n",
    "domain.topology.create_connectivity(fdim, tdim) \n",
    "\n",
    "# Get Facets representing outer boundary (needed for boundary condition)\n",
    "boundary_facets = mesh.exterior_facet_indices(domain.topology)\n",
    "\n",
    "\n",
    "### Define Boundary Conditions ###\n",
    "boundary_dofs = xfem.locate_dofs_topological(V, fdim, boundary_facets) # global -> local coordinates\n",
    "bc = xfem.dirichletbc(uD, boundary_dofs) # Assign Dirichlet Boundary conditions to boundary"
   ]
  },
  {
   "cell_type": "markdown",
   "id": "6ccde2f2-b958-437a-80d5-c063f1579748",
   "metadata": {},
   "source": [
    "---"
   ]
  },
  {
   "cell_type": "markdown",
   "id": "010a9e51-e9c7-456d-b605-e351ad3665db",
   "metadata": {},
   "source": [
    "We are now all set to define the variational problem. With the packages ```dolfinx``` and ```ufl``` this is quite intuitive. <br>\n",
    "- The gradient $\\nabla u$ is programmed by ```ufl.grad(u)```.\n",
    "- The integration over the domain $\\Omega$ is programmed by ```ufl.dx```.\n",
    "- The dot product $\\vec{x} \\cdot \\vec{y}$ is programmed by ```ufl.dot(x, y)``` or ```ufl.inner(x, y)```.\n",
    "- The product $u\\cdot v$ is programmed by ```u*v```"
   ]
  },
  {
   "cell_type": "code",
   "execution_count": 10,
   "id": "3a787b2b-9ec7-41ab-86f4-e5dbd2d5702d",
   "metadata": {},
   "outputs": [],
   "source": [
    "a = ufl.dot(ufl.grad(u), ufl.grad(v)) * ufl.dx\n",
    "L = f * v * ufl.dx"
   ]
  },
  {
   "cell_type": "markdown",
   "id": "b72a1158-f9d9-430a-b5f8-626ede1039a6",
   "metadata": {},
   "source": [
    "---"
   ]
  },
  {
   "cell_type": "markdown",
   "id": "51757ef9-7bb8-4890-94f1-bbbbb8fb910e",
   "metadata": {},
   "source": [
    "Now we are able to solve the problem. We are using the ```fem.petsc.LinearProblem```. There are other solvers out there, but for a simple linear problem, like we have it here, this is the simplest one."
   ]
  },
  {
   "cell_type": "code",
   "execution_count": 11,
   "id": "5dccec9b-8317-4a38-b06b-c5e2df237eb1",
   "metadata": {},
   "outputs": [],
   "source": [
    "### Solve Linear System ###\n",
    "problem = xpetsc.LinearProblem(a, L, bcs=[bc])\n",
    "uh = problem.solve()\n",
    "\n",
    "# Transform Solution to np.array\n",
    "solVec = uh.x.array"
   ]
  },
  {
   "cell_type": "markdown",
   "id": "d0aa28e1-b725-40ff-a3d7-d3229db48949",
   "metadata": {},
   "source": [
    "---\n",
    "<font color='Red'> <b>ToDo:</b> </font> <br>\n",
    "Look into the different solvers. Especially the solver which uses the assembled forms, see [here](https://jsdokken.com/dolfinx-tutorial/chapter2/diffusion_code.html). Compare speed (especially regarding offline/online calculation), use ```dolfinx`.fem.Constant``` for reducing simulation speed for different parameters. Also exploit the LU-decomposition of the scalar "
   ]
  },
  {
   "cell_type": "markdown",
   "id": "7b233066-5eeb-43fb-bae5-96552d2729a3",
   "metadata": {},
   "source": [
    "---"
   ]
  },
  {
   "cell_type": "markdown",
   "id": "a191f845-9e49-4c52-8da3-602e5bc5be58",
   "metadata": {},
   "source": [
    "Now you could calculate the error of our approximation. I will skip that here. "
   ]
  },
  {
   "cell_type": "markdown",
   "id": "229f5641-6e08-4329-b66a-d171a1fee1d4",
   "metadata": {},
   "source": [
    "---"
   ]
  },
  {
   "cell_type": "markdown",
   "id": "0d558edb-c937-4f1f-9ca8-f676c4a81598",
   "metadata": {},
   "source": [
    "We are now plotting the solution for a visual reference. "
   ]
  },
  {
   "cell_type": "code",
   "execution_count": 12,
   "id": "a67904a9-3718-453e-aa49-28774ce7eaf8",
   "metadata": {},
   "outputs": [
    {
     "data": {
      "application/vnd.jupyter.widget-view+json": {
       "model_id": "1dd6d0bb5aa640c3978fd171e515a9c3",
       "version_major": 2,
       "version_minor": 0
      },
      "text/plain": [
       "EmbeddableWidget(value='<iframe srcdoc=\"<!DOCTYPE html>\\n<html>\\n  <head>\\n    <meta http-equiv=&quot;Content-…"
      ]
     },
     "metadata": {},
     "output_type": "display_data"
    }
   ],
   "source": [
    "pyvista.start_xvfb()\n",
    "topology, cell_types, geometry = xplot.vtk_mesh(domain, tdim)\n",
    "grid = pyvista.UnstructuredGrid(topology, cell_types, geometry)\n",
    "\n",
    "u_topology, u_cell_types, u_geometry = xplot.vtk_mesh(V)\n",
    "\n",
    "u_grid = pyvista.UnstructuredGrid(u_topology, u_cell_types, u_geometry)\n",
    "u_grid.point_data[\"u\"] = uh.x.array.real\n",
    "u_grid.set_active_scalars(\"u\")\n",
    "u_plotter = pyvista.Plotter()\n",
    "u_plotter.add_mesh(u_grid, show_edges=True)\n",
    "u_plotter.view_xy()\n",
    "u_plotter.show()"
   ]
  },
  {
   "cell_type": "code",
   "execution_count": 13,
   "id": "a30cf9cb-c690-447a-82a2-63a729b102af",
   "metadata": {},
   "outputs": [
    {
     "data": {
      "application/vnd.jupyter.widget-view+json": {
       "model_id": "41a1b2821dd34384a08ae2db9d8b56dd",
       "version_major": 2,
       "version_minor": 0
      },
      "text/plain": [
       "EmbeddableWidget(value='<iframe srcdoc=\"<!DOCTYPE html>\\n<html>\\n  <head>\\n    <meta http-equiv=&quot;Content-…"
      ]
     },
     "metadata": {},
     "output_type": "display_data"
    }
   ],
   "source": [
    "# Plot in 3D\n",
    "warped = u_grid.warp_by_scalar()\n",
    "plotter2 = pyvista.Plotter()\n",
    "plotter2.add_mesh(warped, show_edges=True, show_scalar_bar=True)\n",
    "\n",
    "plotter2.show()"
   ]
  }
 ],
 "metadata": {
  "kernelspec": {
   "display_name": "fenicsx",
   "language": "python",
   "name": "fenicsx"
  },
  "language_info": {
   "codemirror_mode": {
    "name": "ipython",
    "version": 3
   },
   "file_extension": ".py",
   "mimetype": "text/x-python",
   "name": "python",
   "nbconvert_exporter": "python",
   "pygments_lexer": "ipython3",
   "version": "3.12.2"
  }
 },
 "nbformat": 4,
 "nbformat_minor": 5
}
