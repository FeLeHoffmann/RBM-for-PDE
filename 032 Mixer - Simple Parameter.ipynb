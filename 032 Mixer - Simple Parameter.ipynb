{
 "cells": [
  {
   "cell_type": "markdown",
   "id": "f9b8057c-1066-4bb5-af29-9f7fe71b6aba",
   "metadata": {},
   "source": [
    "# Mixer - Simple Parameter\n",
    "\n",
    "Author: Felix Hoffmann <br>\n",
    "Date: 05/01/2024 <br>\n",
    "Based on: Reduced Basis Methods for Partial Differential Equations - An Introduction\n",
    "\n",
    "This Tutorial will extend the previous tutorial and will include how to rewrite the simulation to allow parameter investigation. \n",
    "\n",
    "---"
   ]
  },
  {
   "cell_type": "markdown",
   "id": "226ba5a3-4fd1-4dea-b1c8-d509a777fe90",
   "metadata": {},
   "source": [
    "We want to write a function that takes just the Parameters and returns the solution. Ideally, we want to avoid repeating computations. For example, we only need to read in the mesh once and can pass it on.\n",
    "\n",
    "<font color='Red'> <b>ToDo:</b> </font> <br>\n",
    "The following code will reinitialize the weak formulation each time. Switch the solver to ```PetSc.KSP()```and use the ```setOpertors```, ```update``` and ```assemble``` to avoid reinitializing the weak formulation in each step. \n",
    "\n",
    "---"
   ]
  },
  {
   "cell_type": "markdown",
   "id": "f1a57dcc-ebb6-4724-9c9d-17450485317f",
   "metadata": {},
   "source": [
    "First, we will do the offline computation. That means steps we only need to do once. "
   ]
  },
  {
   "cell_type": "code",
   "execution_count": 1,
   "id": "15cc4b46-e758-4213-8e04-7b2bf7c22a34",
   "metadata": {},
   "outputs": [],
   "source": [
    "### --- Imports --- ###\n",
    "import numpy as np\n",
    "\n",
    "import src.helper as helper\n",
    "import dolfinx\n",
    "import dolfinx.mesh as xmesh\n",
    "import dolfinx.fem as xfem\n",
    "import dolfinx.fem.petsc as xpetsc\n",
    "import dolfinx.io as xio\n",
    "\n",
    "import ufl\n",
    "\n",
    "# Plotting \n",
    "import pyvista\n",
    "import trame\n",
    "import ipywidgets"
   ]
  },
  {
   "cell_type": "code",
   "execution_count": 2,
   "id": "de7b1821-3969-41d5-abe4-75220fc6540c",
   "metadata": {},
   "outputs": [],
   "source": [
    "def offlineComputation():\n",
    "    # Perform all computations which are independent \n",
    "    #   of mu. THese can be performed offline. \n",
    "    #################################################\n",
    "    \n",
    "    import src.offlineHelper as offH\n",
    "    import src.flowField.flowField as flowField\n",
    "\n",
    "    # Read in the mesh\n",
    "    fileName = \"src/mesh/mixer.msh\"\n",
    "    mesh, cell_markers, facet_markers =  offH.readMesh(fileName)\n",
    "\n",
    "    # Create FunctionSpace & Test-/Trialfunction & B-Field\n",
    "    V, u, v = offH.createFunctionSpace(mesh)\n",
    "    b = flowField.returnB(mesh)\n",
    "    \n",
    "    # Define and Perform Boundaries\n",
    "    boundaries = offH.setUpBc()\n",
    "    facet_tag = offH.tagBc(mesh, boundaries)\n",
    "    offH.saveBc2Mesh(mesh, facet_tag)\n",
    "    ds = ufl.Measure(\"ds\", domain=mesh, subdomain_data=facet_tag) \n",
    "\n",
    "    return V, u, v, b, mesh, ds, facet_tag"
   ]
  },
  {
   "cell_type": "code",
   "execution_count": 3,
   "id": "c934ecc2-e313-49dd-adfa-c015db0c46f5",
   "metadata": {},
   "outputs": [],
   "source": [
    "def onlineComputation(mu, V, u, v, b, mesh, ds, facet_tag):\n",
    "    # Perform all computations which are depending \n",
    "    #   on mu. These need to be performed after mu is feeded. \n",
    "    #########################################################\n",
    "    \n",
    "    import src.onlineHelper as onH\n",
    "    \n",
    "    # Define Weak Formulation\n",
    "    FF = onH.defineWeakForm(mu, u, v, b)\n",
    "\n",
    "    # Apply Boundary Conditions\n",
    "    boundary_conditions = onH.evalBc(mu, mesh, V, v, ds, facet_tag)\n",
    "    FF, bcs = onH.performBoundaryConditions(boundary_conditions, FF)\n",
    "    \n",
    "    ### Solve the Problem\n",
    "    # Define LHS / RHS\n",
    "    a = ufl.lhs(FF)\n",
    "    L = ufl.rhs(FF)\n",
    "    \n",
    "    # Specify Solver\n",
    "    problem = xpetsc.LinearProblem(a, L, bcs=bcs)\n",
    "    \n",
    "    # Solve the actual problem\n",
    "    uh = problem.solve()\n",
    "\n",
    "    return uh"
   ]
  },
  {
   "cell_type": "code",
   "execution_count": 4,
   "id": "32d26800-48e4-484c-a290-ebd8ae73fae3",
   "metadata": {},
   "outputs": [
    {
     "name": "stdout",
     "output_type": "stream",
     "text": [
      "Info    : Reading 'src/mesh/mixer.msh'...\n",
      "Info    : 49 entities\n",
      "Info    : 1655 nodes\n",
      "Info    : 3308 elements\n",
      "Info    : Done reading 'src/mesh/mixer.msh'\n"
     ]
    }
   ],
   "source": [
    "# Setup Code\n",
    "V, u, v, b, mesh, ds, facet_tag = offlineComputation()\n",
    "calcPDE = lambda mu: onlineComputation(mu, V, u, v, b, mesh, ds, facet_tag)"
   ]
  },
  {
   "cell_type": "code",
   "execution_count": 5,
   "id": "e281200f-c498-4697-a520-484dce625f97",
   "metadata": {},
   "outputs": [],
   "source": [
    "# calculate PDE\n",
    "mu = np.array([4, 6, 2, 125])\n",
    "uh = calcPDE(mu)"
   ]
  },
  {
   "cell_type": "code",
   "execution_count": null,
   "id": "0cf26b15-8058-4b9e-93b6-56641d00d95a",
   "metadata": {},
   "outputs": [],
   "source": [
    "# Plot Solution\n",
    "helper.plotSolution(uh, V)"
   ]
  },
  {
   "cell_type": "markdown",
   "id": "229da5e9-4bae-42c0-aef6-4d46ac1b0f44",
   "metadata": {},
   "source": [
    "---"
   ]
  },
  {
   "cell_type": "markdown",
   "id": "b7bf1f41-343b-4322-a258-74b3c72a90e3",
   "metadata": {},
   "source": [
    "We now have created a function that returns the solution after feeding in a parameter $\\mu$. Before we dive into parameter investigation, let's have a closer look at our solver. We want to investigate the saved time by doing the splitting into offline and online computation.\n",
    "\n",
    "<font color='Red'> <b>ToDo:</b> </font> <br>\n",
    "Compare speed between different solvers. Also compare the error between different solvers. "
   ]
  },
  {
   "cell_type": "code",
   "execution_count": 6,
   "id": "c8c9b152-b44c-4211-a8a1-7168226762eb",
   "metadata": {
    "scrolled": true
   },
   "outputs": [
    {
     "name": "stdout",
     "output_type": "stream",
     "text": [
      "Info    : Reading 'src/mesh/mixer.msh'...\n",
      "Info    : 49 entities\n",
      "Info    : 1655 nodes\n",
      "Info    : 3308 elements\n",
      "Info    : Done reading 'src/mesh/mixer.msh'\n",
      "Info    : Reading 'src/mesh/mixer.msh'...\n",
      "Info    : 49 entities\n",
      "Info    : 1655 nodes\n",
      "Info    : 3308 elements\n",
      "Info    : Done reading 'src/mesh/mixer.msh'\n",
      "Info    : Reading 'src/mesh/mixer.msh'...\n",
      "Info    : 49 entities\n",
      "Info    : 1655 nodes\n",
      "Info    : 3308 elements\n",
      "Info    : Done reading 'src/mesh/mixer.msh'\n",
      "Info    : Reading 'src/mesh/mixer.msh'...\n",
      "Info    : 49 entities\n",
      "Info    : 1655 nodes\n",
      "Info    : 3308 elements\n",
      "Info    : Done reading 'src/mesh/mixer.msh'\n",
      "Info    : Reading 'src/mesh/mixer.msh'...\n",
      "Info    : 49 entities\n",
      "Info    : 1655 nodes\n",
      "Info    : 3308 elements\n",
      "Info    : Done reading 'src/mesh/mixer.msh'\n",
      "Info    : Reading 'src/mesh/mixer.msh'...\n",
      "Info    : 49 entities\n",
      "Info    : 1655 nodes\n",
      "Info    : 3308 elements\n",
      "Info    : Done reading 'src/mesh/mixer.msh'\n",
      "Info    : Reading 'src/mesh/mixer.msh'...\n",
      "Info    : 49 entities\n",
      "Info    : 1655 nodes\n",
      "Info    : 3308 elements\n",
      "Info    : Done reading 'src/mesh/mixer.msh'\n",
      "Info    : Reading 'src/mesh/mixer.msh'...\n",
      "Info    : 49 entities\n",
      "Info    : 1655 nodes\n",
      "Info    : 3308 elements\n",
      "Info    : Done reading 'src/mesh/mixer.msh'\n",
      "Info    : Reading 'src/mesh/mixer.msh'...\n",
      "Info    : 49 entities\n",
      "Info    : 1655 nodes\n",
      "Info    : 3308 elements\n",
      "Info    : Done reading 'src/mesh/mixer.msh'\n",
      "Info    : Reading 'src/mesh/mixer.msh'...\n",
      "Info    : 49 entities\n",
      "Info    : 1655 nodes\n",
      "Info    : 3308 elements\n",
      "Info    : Done reading 'src/mesh/mixer.msh'\n",
      "Info    : Reading 'src/mesh/mixer.msh'...\n",
      "Info    : 49 entities\n",
      "Info    : 1655 nodes\n",
      "Info    : 3308 elements\n",
      "Info    : Done reading 'src/mesh/mixer.msh'\n"
     ]
    }
   ],
   "source": [
    "import time\n",
    "import tqdm\n",
    "\n",
    "NN = 1000\n",
    "\n",
    "# Offline and Online in each Step\n",
    "startTimeOff = time.time()\n",
    "\n",
    "for _ in range(NN):\n",
    "    V, u, v, b, mesh, ds, facet_tag = offlineComputation()\n",
    "    calcPDE = lambda mu: onlineComputation(mu, V, u, v, b, mesh, ds, facet_tag)\n",
    "\n",
    "    mu = np.random.rand(4) * np.array([12, 12, 12, 200])\n",
    "    uh = calcPDE(mu)\n",
    "\n",
    "endTimeOff = time.time()\n",
    "\n",
    "# ------------------------------------------------------------------------------------- #\n",
    "\n",
    "# Seperation in Offline and Online\n",
    "startTimeOn = time.time()\n",
    "\n",
    "V, u, v, b, mesh, ds, facet_tag = offlineComputation()\n",
    "calcPDE = lambda mu: onlineComputation(mu, V, u, v, b, mesh, ds, facet_tag)\n",
    "\n",
    "for _ in range(NN):\n",
    "    mu = np.random.rand(4) * np.array([12, 12, 12, 200])\n",
    "    uh = calcPDE(mu)\n",
    "\n",
    "endTimeOn = time.time()"
   ]
  },
  {
   "cell_type": "code",
   "execution_count": 10,
   "id": "3896f523-2414-4b1e-b3fc-8537a8f407b8",
   "metadata": {},
   "outputs": [
    {
     "name": "stdout",
     "output_type": "stream",
     "text": [
      "Elapsed Time for Offline&Online in each step:\n",
      "\t 1.7179015398025512\n",
      "Elapsed Time for seperation into Offline & Online:\n",
      "\t 1.5081001043319702\n",
      "\n",
      "Saved Time: 13.9%\n"
     ]
    }
   ],
   "source": [
    "compTimeOff = endTimeOff - startTimeOff\n",
    "compTimeOn  = endTimeOn - startTimeOn\n",
    "print(f\"Elapsed Time for Offline&Online in each step:\\n\\t {compTimeOff / NN}\")\n",
    "print(f\"Elapsed Time for seperation into Offline & Online:\\n\\t {compTimeOn / NN}\\n\")\n",
    "print(f\"Saved Time: {np.round((compTimeOff - compTimeOn) / compTimeOn * 100,1)}%\")"
   ]
  },
  {
   "cell_type": "markdown",
   "id": "57400e80-4a4c-4e23-b2da-134790de5800",
   "metadata": {},
   "source": [
    "So we see that splitting the offline and online computation saves us around $14\\%$ of computational speed (on my machine). This doesn't sound much at first, but if your simulation runs for one hour then this is an additional 10min. "
   ]
  },
  {
   "cell_type": "code",
   "execution_count": null,
   "id": "e69b77f3-a4cd-446f-89a8-b0fe45b99b85",
   "metadata": {},
   "outputs": [],
   "source": []
  }
 ],
 "metadata": {
  "kernelspec": {
   "display_name": "fenicsx",
   "language": "python",
   "name": "fenicsx"
  },
  "language_info": {
   "codemirror_mode": {
    "name": "ipython",
    "version": 3
   },
   "file_extension": ".py",
   "mimetype": "text/x-python",
   "name": "python",
   "nbconvert_exporter": "python",
   "pygments_lexer": "ipython3",
   "version": "3.12.2"
  }
 },
 "nbformat": 4,
 "nbformat_minor": 5
}
