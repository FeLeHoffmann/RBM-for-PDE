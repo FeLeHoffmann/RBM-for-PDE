{
 "cells": [
  {
   "cell_type": "markdown",
   "id": "30fcc2a0-9cd3-4fba-8f43-884b0e143395",
   "metadata": {},
   "source": [
    "# Greedy Algorithm\n",
    "\n",
    "Author: Felix Hoffmann <br>\n",
    "Date: 05/10/2024 <br>\n",
    "Based on: Reduced Basis Methods for Partial Differential Equations - An Introduction\n",
    "\n",
    "This Tutorial will cover the Greedy Algorithm.\n",
    "\n",
    "---"
   ]
  },
  {
   "cell_type": "markdown",
   "id": "5cef7368-5c1c-451b-8d25-6c22c237087e",
   "metadata": {},
   "source": [
    "We will implement the Greedy Algorithm according to Algorithm 7.3 of the book.\n",
    "\n",
    "First we will define all the helper functions. Their pseudocode can also found in the book. If modifications were made, they are stated at the according function."
   ]
  },
  {
   "cell_type": "code",
   "execution_count": 1,
   "id": "202815eb-7774-4821-93fc-346001d86a7a",
   "metadata": {},
   "outputs": [],
   "source": [
    "import src.helperNS as helperNS\n",
    "import src.defineProblem as dP\n",
    "\n",
    "import numpy as np\n",
    "import matplotlib.pyplot as plt\n",
    "from scipy.stats import qmc\n",
    "import scipy\n",
    "import tqdm"
   ]
  },
  {
   "cell_type": "markdown",
   "id": "5e88d606-1d5e-4489-ae60-93237bbfad1f",
   "metadata": {},
   "source": [
    "<font color='Red'> <b>ToDo:</b> </font> <br>\n",
    "In the following function we are ignoring the Dirichlet Boundary. Implement these."
   ]
  },
  {
   "cell_type": "code",
   "execution_count": 2,
   "id": "7020daed-97b8-420d-b2af-b42ad5756dbc",
   "metadata": {},
   "outputs": [],
   "source": [
    "def solveHFsystem(AAhq, ffhq, thetaAq, thetaFq, mu_N):\n",
    "    Qa = len(AAhq)\n",
    "    Qf = len(ffhq)\n",
    "    \n",
    "    AAh = np.zeros_like(AAhq[0])\n",
    "    ffh = np.zeros_like(ffhq[0])\n",
    "    \n",
    "    for q in range(Qa):\n",
    "        AAh = AAh + thetaAq[q](mu_N) * AAhq[q]\n",
    "        \n",
    "    for q in range(Qf):\n",
    "        ffh = ffh + thetaFq[q](mu_N) * ffhq[q]\n",
    "        \n",
    "    u_Sol = scipy.sparse.linalg.spsolve(AAh, ffh)\n",
    "    \n",
    "    return u_Sol"
   ]
  },
  {
   "cell_type": "markdown",
   "id": "6724ed86-6907-4ead-b666-db148f5041ae",
   "metadata": {},
   "source": [
    "In the following we're adding an additional projection step if the norm of the projection is too small. This prevents the loss of orthogonality. "
   ]
  },
  {
   "cell_type": "code",
   "execution_count": 3,
   "id": "9bee5751-0b30-4a94-9dde-48fc35218035",
   "metadata": {},
   "outputs": [],
   "source": [
    "def normM(z, M):\n",
    "    return np.sqrt(z @ M @ z)\n",
    "\n",
    "\n",
    "def gramSchmidt(V, u, X):\n",
    "    if V.size == 0:\n",
    "        z = u\n",
    "    else:\n",
    "        z = u - V @ V.T @ X @ u\n",
    "\n",
    "        # cure for loss of orthogonality\n",
    "        if np.linalg.norm(z) < 0.7*np.linalg.norm(u):\n",
    "            z = z - V @ V.T @ X @ z\n",
    "    \n",
    "    z = z / normM(z, X)\n",
    "    \n",
    "    return z"
   ]
  },
  {
   "cell_type": "code",
   "execution_count": 4,
   "id": "5d919149-e154-48e1-b5aa-ea3fa4816920",
   "metadata": {},
   "outputs": [],
   "source": [
    "def projectSystem(AAhq, ffhq, V, X, method=\"G-RB\"):\n",
    "    Qa = len(AAhq)\n",
    "    Qf = len(ffhq)\n",
    "    \n",
    "    if method == \"G-RB\":\n",
    "        AANq = [None] * Qa\n",
    "        ffNq = [None] * Qf\n",
    "        \n",
    "        for q in range(Qa):\n",
    "            AANq[q] = V.T @ AAhq[q] @ V\n",
    "        \n",
    "        for q in range(Qf):\n",
    "            ffNq[q] = V.T @ ffhq[q]\n",
    "    \n",
    "    elif method == \"LS-RB\":\n",
    "        AANq = [[None for _ in range(Qa)] for _ in range(Qa)]\n",
    "        ffNq = [[None for _ in range(Qf)] for _ in range(Qa)]\n",
    "        \n",
    "        for q1 in range(Qa):\n",
    "            ZZ = scipy.sparse.linalg.spsolve(X, AAhq[q1] @ V)\n",
    "            for q2 in range(Qa):\n",
    "                AANq[q1][q2] = ZZ.T @ AAhq[q2] @ V\n",
    "            for q2 in range(Qf):\n",
    "                ffNq[q1][q2] = ZZ.T @ ffhq[q2]\n",
    "            \n",
    "    else:\n",
    "        print(\"Method not found.\")\n",
    "        return -1\n",
    "\n",
    "    return AANq, ffNq"
   ]
  },
  {
   "cell_type": "code",
   "execution_count": 5,
   "id": "0cbf0a52-6e8e-4767-903d-df649e02aeb5",
   "metadata": {},
   "outputs": [],
   "source": [
    "def offlineResidual(AAh, ffh, XXh, V_base):\n",
    "    Qa = len(AAh)\n",
    "    Qf = len(ffh)\n",
    "    \n",
    "    C = [[None for _ in range(Qf)] for _ in range(Qf)]\n",
    "    d = [[None for _ in range(Qf)] for _ in range(Qa)]\n",
    "    E = [[None for _ in range(Qa)] for _ in range(Qa)]\n",
    "    \n",
    "    for q1 in range(Qf):\n",
    "        # Matlab solves via Cholesky Decomposition\n",
    "        t = scipy.sparse.linalg.spsolve(XXh, ffh[q1])\n",
    "        for q2 in range(Qf):\n",
    "            C[q1][q2] = t @ ffh[q2]\n",
    "            \n",
    "    for q1 in range(Qa):\n",
    "        # Matlab solves via Cholesky Decomposition\n",
    "        Z = scipy.sparse.linalg.spsolve(XXh, AAh[q1] @ V_base)\n",
    "        for q2 in range(Qa):\n",
    "            EE = Z.T @ AAh[q2] @ V_base\n",
    "            \n",
    "            if EE.shape == (1,):\n",
    "                EE = np.reshape(EE, (1,1))\n",
    "                \n",
    "            E[q1][q2] = EE\n",
    "            \n",
    "        for q2 in range(Qf):\n",
    "            dd = Z.T @ ffh[q2]\n",
    "            \n",
    "            if dd.shape == ():\n",
    "                dd = np.reshape(dd, (1,))\n",
    "                \n",
    "            d[q1][q2] = dd\n",
    "        \n",
    "    return C, d, E"
   ]
  },
  {
   "cell_type": "markdown",
   "id": "f5ae9a5f-96b1-4aff-b334-07cbb0869a9c",
   "metadata": {},
   "source": [
    "<font color='Red'> <b>ToDo:</b> </font> <br>\n",
    "In the following function we are ignoring the Dirichlet Boundary. Implement these."
   ]
  },
  {
   "cell_type": "code",
   "execution_count": 6,
   "id": "350dcb91-579b-49c4-ad58-5f3b618c86db",
   "metadata": {},
   "outputs": [],
   "source": [
    "def solveRBsystem(AANq, ffNq, thetaA, thetaF, mu, method):    \n",
    "    if method == \"G-RB\":\n",
    "        Qa = len(AANq)\n",
    "        Qf = len(ffNq)\n",
    "    \n",
    "        AAN = np.zeros_like(AANq[0])\n",
    "        ffN = np.zeros_like(ffNq[0])\n",
    "\n",
    "        for q in range(Qa):\n",
    "            AAN = AAN + thetaA[q](mu) * AANq[q]\n",
    "\n",
    "        for q in range(Qf):\n",
    "            ffN = ffN + thetaF[q](mu) * ffNq[q]\n",
    "        \n",
    "        uN = np.linalg.solve(AAN, ffN)\n",
    "    \n",
    "    \n",
    "    elif method == \"LS-RB\":\n",
    "        Qa = len(AANq)\n",
    "        Qf = len(ffNq[0])\n",
    "                \n",
    "        AAN = np.zeros_like(AANq[0][0])\n",
    "        ffN = np.zeros_like(ffNq[0][0])\n",
    "        \n",
    "        for q1 in range(Qa):\n",
    "            for q2 in range(Qa):\n",
    "                AAN = AAN + thetaA[q1](mu)*thetaA[q2](mu) * AANq[q1][q2]\n",
    "        \n",
    "        for q1 in range(Qa):\n",
    "            for q2 in range(Qf):\n",
    "                ffN = ffN + thetaA[q1](mu)*thetaF[q2](mu) * ffNq[q1][q2]        \n",
    "        \n",
    "        if AAN.shape == (1,):\n",
    "            uN = np.linalg.solve([AAN], [ffN])\n",
    "        else:\n",
    "            uN = np.linalg.solve(AAN, ffN)\n",
    "            \n",
    "    else:\n",
    "        print(\"Method not found.\")\n",
    "        return -1\n",
    "        \n",
    "    return uN"
   ]
  },
  {
   "cell_type": "markdown",
   "id": "a4ec88ef-85d9-4ba4-85ce-bd21bf3fca76",
   "metadata": {},
   "source": [
    "In this function, a crucial change is made. We subtract ```res_AF``` instead of adding it as the other two residuals. In the book it's stated as an addition, but the greedy algorithm doesn't work if we add the crossterm residual. \n",
    "\n",
    "<font color='Red'> <b>ToDo:</b> </font> <br>\n",
    "Find out why we need a negative Sign."
   ]
  },
  {
   "cell_type": "code",
   "execution_count": 7,
   "id": "0ac1ede3-5316-4a69-b299-412a9dd6354e",
   "metadata": {},
   "outputs": [],
   "source": [
    "def errorEstimate(C, d, EE, thetaA, thetaF, uN, mu, beta):\n",
    "    epsilon = 0\n",
    "    \n",
    "    res_AA = 0\n",
    "    res_AF = 0\n",
    "    res_FF = 0\n",
    "    \n",
    "    Qa = len(thetaA)\n",
    "    Qf = len(thetaF)\n",
    "    \n",
    "    for q1 in range(Qf):\n",
    "        for q2 in range(Qf):\n",
    "            res_FF = res_FF + thetaF[q1](mu)*thetaF[q2](mu) * C[q1][q2]\n",
    "    \n",
    "    for q1 in range(Qa):\n",
    "        for q2 in range(Qa):\n",
    "            res_AA = res_AA + thetaA[q1](mu)*thetaA[q2](mu) * uN @ EE[q1][q2] @ uN\n",
    "        for q2 in range(Qf):\n",
    "            res_AF = res_AF + (thetaA[q1](mu)*thetaF[q2](mu) * uN @ d[q1][q2] + \n",
    "                               thetaA[q1](mu)*thetaF[q2](mu) * d[q1][q2] @ uN)\n",
    "\n",
    "    #! Here we subtract res_AF!\n",
    "    epsilon = res_AA - res_AF + res_FF\n",
    "    delta = np.sqrt(np.abs(epsilon)) / beta\n",
    "    \n",
    "    return delta"
   ]
  },
  {
   "cell_type": "markdown",
   "id": "b963678c-3687-407b-b6c3-48dc0ecd2b44",
   "metadata": {},
   "source": [
    "--- \n",
    "Additionally we need some helper functions:"
   ]
  },
  {
   "cell_type": "code",
   "execution_count": 8,
   "id": "6e4a6035-fad0-45d8-8388-6407e0f9e0e5",
   "metadata": {},
   "outputs": [],
   "source": [
    "def addZeta(V_base, zeta_N):\n",
    "    if V_base.shape == (0,):\n",
    "        V_base = np.array(zeta_N).reshape((-1, 1))\n",
    "    else:\n",
    "        V_base = np.hstack((V_base, zeta_N.reshape((-1, 1))))\n",
    "\n",
    "    return V_base\n",
    "\n",
    "\n",
    "def addMu(xi_g, mu_N):\n",
    "    if xi_g.shape == (0,):\n",
    "        xi_g = np.array(mu_N)\n",
    "    else:\n",
    "        xi_g = np.vstack((xi_g, mu_N))\n",
    "    \n",
    "    return xi_g"
   ]
  },
  {
   "cell_type": "code",
   "execution_count": 9,
   "id": "5bcc38d5-0e91-4e3e-b4ba-dfc5c38318e1",
   "metadata": {},
   "outputs": [],
   "source": [
    "\n",
    "def calcXX(mesh):\n",
    "      import dolfinx.fem as xfem\n",
    "      import dolfinx.fem.petsc as xpetsc\n",
    "      import ufl\n",
    "      import scipy\n",
    "      \n",
    "      V = xfem.FunctionSpace(mesh, (\"Lagrange\", 1))\n",
    "      v1 = ufl.TrialFunction(V)\n",
    "      v2 = ufl.TestFunction(V)\n",
    "      \n",
    "      xx = xfem.form(v1 * v2 * ufl.dx)\n",
    "      \n",
    "      XX = xpetsc.assemble_matrix(xx)\n",
    "      XX.assemble()\n",
    "      \n",
    "      ai, aj, av = XX.getValuesCSR()\n",
    "      XX_csr = scipy.sparse.csr_matrix((av, aj, ai))\n",
    "      \n",
    "      return XX_csr\n",
    "\n",
    "def overhead():\n",
    "      mesh, ct, _ = helperNS.readMesh(\"./mesh/mixer.msh\")\n",
    "      \n",
    "      XX = scipy.sparse.csc_matrix(calcXX(mesh))\n",
    "      u, v, b, facet_tag, V, ds, fdim = helperNS.overhead(mesh)\n",
    "      bc1, bc5, bc6 = helperNS.calcBc(mesh, u, v, facet_tag, V, ds, fdim)\n",
    "      calcPDE = lambda mu: helperNS.calcPDE(mu, mesh, u, v, b, facet_tag, V, ds, fdim, bc1, bc5, bc6, plotting=False)\n",
    "\n",
    "      return calcPDE, XX, mesh"
   ]
  },
  {
   "cell_type": "code",
   "execution_count": 10,
   "id": "bf0fceea-4df5-41f4-b052-8a27d1c427e4",
   "metadata": {},
   "outputs": [],
   "source": [
    "def calcGlobalBeta(xi_train, XXh, AAh, thetaA, ffh, thetaF):\n",
    "    print(\"Start Calculating Beta\")\n",
    "    beta_mu = np.array([])\n",
    "    for i in tqdm.tqdm(range(xi_train.shape[0])):\n",
    "        mu = xi_train[i]\n",
    "        beta_local = calcBeta(XXh, mu, AAh, thetaA, ffh, thetaF)\n",
    "        beta_mu = np.append(beta_mu, beta_local)\n",
    "        # print(beta_local)\n",
    "    print(\"Finished Calculating Beta\\n\")\n",
    "    # print(beta_mu)\n",
    "    \n",
    "    return beta_mu\n",
    "\n",
    "def calcBeta(XXh, mu, AAhq, thetaAq, ffh, thetaF):\n",
    "    Qa = len(AAhq)\n",
    "    AAh = np.zeros_like(AAhq[0])\n",
    "    \n",
    "    for q in range(Qa):\n",
    "        AAh = AAh + thetaAq[q](mu) * AAhq[q]\n",
    "    \n",
    "    M = scipy.sparse.linalg.spsolve(XXh, AAh) \n",
    "    _, beta, _ = scipy.sparse.linalg.svds(M)\n",
    "    minEig = beta[-1]\n",
    "    \n",
    "    return minEig"
   ]
  },
  {
   "cell_type": "markdown",
   "id": "c50b18c8-79f4-4051-982b-dddc011e36dd",
   "metadata": {},
   "source": [
    "--- \n",
    "The actual Greedy Algorithm"
   ]
  },
  {
   "cell_type": "code",
   "execution_count": 11,
   "id": "5f977a51-856d-4e17-b4a8-bead9f9f220c",
   "metadata": {},
   "outputs": [],
   "source": [
    "def greetyAlgorithm(XXh, AAh, thetaA, ffh, thetaF, beta_mu,\n",
    "                    xi_train:np.array, mu_0:np.array, N_max:int=5, epsilon_g:float=1e-3):   \n",
    "    \n",
    "    print(\"Greety Algorithm - Start \\n\")\n",
    "    N = 0\n",
    "    delta_0 = epsilon_g + 1\n",
    "    \n",
    "    xi_g   = np.array([])\n",
    "    V_base = np.array([])\n",
    "    \n",
    "    mu_N = mu_0\n",
    "    delta_N = delta_0  \n",
    "    \n",
    "    # method = \"G-RB\"   \n",
    "    method = \"LS-RB\"\n",
    "    \n",
    "    print(\"Start Iterative Method\\n\")\n",
    "    while N < N_max and delta_N > epsilon_g:   \n",
    "        print(f\"Start Run {N}:\")\n",
    "        N = N+1\n",
    "        \n",
    "        uh_N = solveHFsystem(AAh, ffh, thetaA, thetaF, mu_N)     \n",
    "        zeta_N = gramSchmidt(V_base, uh_N, XXh)\n",
    "        \n",
    "        V_base = addZeta(V_base, zeta_N)\n",
    "        xi_g = addMu(xi_g, mu_N)   \n",
    "        \n",
    "        \n",
    "        AAN, ffN = projectSystem(AAh, ffh, V_base, XXh, method)\n",
    "        C, d, EE = offlineResidual(AAh, ffh, XXh, V_base)\n",
    "   \n",
    "    \n",
    "        Delta = np.zeros(xi_train.shape[0])\n",
    "        for i in range(xi_train.shape[0]):\n",
    "            mu = xi_train[i]\n",
    "            uN = solveRBsystem(AAN, ffN, thetaA, thetaF, mu, method)\n",
    "            Delta[i] = errorEstimate(C, d, EE, thetaA, thetaF, uN, mu, beta_mu[i])\n",
    "        \n",
    "        \n",
    "        idxMax = np.argmax(Delta)\n",
    "        delta_N = Delta[idxMax]\n",
    "        mu_N = xi_train[idxMax, :]        \n",
    "        \n",
    "        print(\"New Mu:\")\n",
    "        print(mu_N)\n",
    "        print(\"Error:\")\n",
    "        print(delta_N)\n",
    "        print()\n",
    "        \n",
    "        \n",
    "    return xi_g"
   ]
  },
  {
   "cell_type": "code",
   "execution_count": 12,
   "id": "eaa80c1d-e8a1-4af5-8a52-5d828a7e6670",
   "metadata": {},
   "outputs": [
    {
     "name": "stdout",
     "output_type": "stream",
     "text": [
      "Info    : Reading './mesh/mixer.msh'...\n",
      "Info    : 49 entities\n",
      "Info    : 1655 nodes\n",
      "Info    : 3308 elements\n",
      "Info    : Done reading './mesh/mixer.msh'\n",
      "\n",
      "Created Matrix XX\n",
      "Defined Problemset\n"
     ]
    }
   ],
   "source": [
    "######################################################\n",
    "# --- Greety Algorithm --- #\n",
    "######################################################\n",
    "# 0. Choose ρ ∈ (0, 1]\n",
    "# 1. Choose μ1 s.t. ||uh(μ)|| ≥ ρ max ||uh(μ)||\n",
    "# 2. Given μ1, ..., μ[N-1]\n",
    "#     i. V[N-1] = span{uh(μ1), ..., uh(μ[N-1])}\n",
    "#    ii. Choose μN s.t. d(uh(μN), V[N-1]) ≥ ρ max d(uh(μ), V[N-1])\n",
    "# 3. Iterate until  max d(uh(μ), VN) < ε\n",
    "######################################################\n",
    "\n",
    "\n",
    "# Parameters\n",
    "mu_0 = [6, 6, 6, 125]\n",
    "N_max = 50\n",
    "epsilon_g = 1e-3\n",
    "\n",
    "\n",
    "# Overhead\n",
    "calcPDE_NS, XX, mesh = overhead()\n",
    "print(\"\\nCreated Matrix XX\")\n",
    "\n",
    "AA = dP.calcAA(mesh)\n",
    "thetaA = dP.calcThetaA()\n",
    "\n",
    "ff = dP.calcFF(mesh)\n",
    "thetaF = dP.calcThetaF()\n",
    "print(\"Defined Problemset\")\n",
    "\n",
    "greetyA = lambda beta_mu, xi_train, mu_0, N_max=N_max, epsilon_g=epsilon_g: greetyAlgorithm(XX, AA, thetaA, ff, thetaF, beta_mu,\n",
    "                                                                                      xi_train, mu_0, N_max, epsilon_g)"
   ]
  },
  {
   "cell_type": "code",
   "execution_count": 13,
   "id": "cff6e95e-7abc-43d9-8be0-a555a5eaea20",
   "metadata": {},
   "outputs": [
    {
     "name": "stdout",
     "output_type": "stream",
     "text": [
      "Created Initial Training Set\n",
      "\n",
      "\n",
      "Start Calculating Beta\n"
     ]
    },
    {
     "name": "stderr",
     "output_type": "stream",
     "text": [
      "100%|█████████████████████████████████████████████████████████████████████████████████| 100/100 [02:35<00:00,  1.55s/it]"
     ]
    },
    {
     "name": "stdout",
     "output_type": "stream",
     "text": [
      "Finished Calculating Beta\n",
      "\n"
     ]
    },
    {
     "name": "stderr",
     "output_type": "stream",
     "text": [
      "\n"
     ]
    }
   ],
   "source": [
    "n_train = 100\n",
    "\n",
    "sampler = qmc.LatinHypercube(d=4)\n",
    "xi_train = np.array([12, 12, 12, 599]) * sampler.random(n=n_train) + np.array([0,0,0,1])\n",
    "print(\"Created Initial Training Set\\n\\n\")\n",
    "\n",
    "globalBeta = calcGlobalBeta(xi_train, XX, AA, thetaA, ff, thetaF);"
   ]
  },
  {
   "cell_type": "code",
   "execution_count": 14,
   "id": "7644c036-073b-47cd-a542-a9aec45a52be",
   "metadata": {},
   "outputs": [
    {
     "name": "stdout",
     "output_type": "stream",
     "text": [
      "Greety Algorithm - Start \n",
      "\n",
      "Start Iterative Method\n",
      "\n",
      "Start Run 0:\n",
      "New Mu:\n",
      "[ 11.87693063   3.64883796   0.70129957 514.39344412]\n",
      "Error:\n",
      "0.09656574053598259\n",
      "\n",
      "Start Run 1:\n",
      "New Mu:\n",
      "[9.20480772e+00 1.17549089e+01 6.12736929e-02 3.89185027e+02]\n",
      "Error:\n",
      "0.06723303740884909\n",
      "\n",
      "Start Run 2:\n",
      "New Mu:\n",
      "[ 11.47634106   2.87810749   5.91981628 190.97470107]\n",
      "Error:\n",
      "5.792511121716269e-09\n",
      "\n"
     ]
    }
   ],
   "source": [
    "mu_0 = np.array(mu_0)\n",
    "mu = greetyA(globalBeta, xi_train, mu_0)"
   ]
  },
  {
   "cell_type": "markdown",
   "id": "37ed6021-ac74-45d9-9da8-d729d4b65958",
   "metadata": {},
   "source": [
    "<font color='Red'> <b>ToDo:</b> </font> <br>\n",
    "Construct the Snapshotmatrix according to the parameter set of the Greedy Algorithm. Investigate the SVD of this matrix."
   ]
  },
  {
   "cell_type": "code",
   "execution_count": null,
   "id": "347a1967-9c30-4db0-8f34-cd36c8d08d86",
   "metadata": {},
   "outputs": [],
   "source": []
  },
  {
   "cell_type": "code",
   "execution_count": null,
   "id": "d620dfa4-7162-44ee-b9e0-82d1f637d6fe",
   "metadata": {},
   "outputs": [],
   "source": []
  }
 ],
 "metadata": {
  "kernelspec": {
   "display_name": "fenicsx",
   "language": "python",
   "name": "fenicsx"
  },
  "language_info": {
   "codemirror_mode": {
    "name": "ipython",
    "version": 3
   },
   "file_extension": ".py",
   "mimetype": "text/x-python",
   "name": "python",
   "nbconvert_exporter": "python",
   "pygments_lexer": "ipython3",
   "version": "3.12.2"
  }
 },
 "nbformat": 4,
 "nbformat_minor": 5
}
